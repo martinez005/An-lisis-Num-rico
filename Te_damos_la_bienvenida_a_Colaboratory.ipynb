{
  "cells": [
    {
      "cell_type": "markdown",
      "metadata": {
        "id": "view-in-github",
        "colab_type": "text"
      },
      "source": [
        "<a href=\"https://colab.research.google.com/github/martinez005/An-lisis-Num-rico/blob/main/Te_damos_la_bienvenida_a_Colaboratory.ipynb\" target=\"_parent\"><img src=\"https://colab.research.google.com/assets/colab-badge.svg\" alt=\"Open In Colab\"/></a>"
      ]
    },
    {
      "cell_type": "markdown",
      "source": [
        "Numpy"
      ],
      "metadata": {
        "id": "rAr07YSRF5he"
      }
    },
    {
      "cell_type": "code",
      "source": [
        "import numpy as np\n",
        "arr=np.array([1, 2, 3, 4])\n",
        "#Realizar una operacion sobre el array\n",
        "squared= np.sqrt(arr) #Raiz cuadrada de cada elemento\n",
        "print(\"las raices cuadradas de los elementos son:\", squared)\n"
      ],
      "metadata": {
        "id": "gYOaeAuwF6iG"
      },
      "execution_count": null,
      "outputs": []
    },
    {
      "cell_type": "markdown",
      "source": [
        "matplotlib"
      ],
      "metadata": {
        "id": "7d7wXw7sGpnL"
      }
    },
    {
      "cell_type": "code",
      "source": [
        "import matplotlib.pyplot as plt\n",
        "x= np.linspace(-10, 10, 100) #generar 100 puntos de -10 a 10\n",
        "y= x**2 #funcion cuadratica\n",
        "plt.plot (x, y)\n",
        "plt.tittle(\"grafico de f(x) =x^2\")\n",
        "plt.xlabel(\"x\")\n",
        "plt.ylabel(\"f(x)\")\n",
        "plt.grid(True)\n",
        "plt.show()\n"
      ],
      "metadata": {
        "id": "WFMUlpqZGtsT"
      },
      "execution_count": null,
      "outputs": []
    }
  ],
  "metadata": {
    "colab": {
      "name": "Te damos la bienvenida a Colaboratory",
      "toc_visible": true,
      "provenance": [],
      "include_colab_link": true
    },
    "kernelspec": {
      "display_name": "Python 3",
      "name": "python3"
    }
  },
  "nbformat": 4,
  "nbformat_minor": 0
}